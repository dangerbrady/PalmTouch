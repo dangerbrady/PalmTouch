{
 "cells": [
  {
   "cell_type": "markdown",
   "metadata": {},
   "source": [
    "## Preprocessing and Data Augmentation\n",
    "We filtered empty (due to not touching) and erroneous images (which do not contain the expected number of touches) to avoid wrong labeling. We extended the data set with flipped versions (vertical, horizontal, and both) of all remaining capacitive images to train the model for different device orientations. To train a position-invariant model and enable classification of multiple blobs within one capacitive image, we performed a blob detection, cropped the results and pasted each blob into an empty 15×27 matrix (referred to as blob image). The blob detection omitted all blobs that were not larger than one pixel of the image (4.1mm×4.1mm) as these can be considered as noise of the capacitive touchscreen."
   ]
  },
  {
   "cell_type": "code",
   "execution_count": 1,
   "metadata": {},
   "outputs": [],
   "source": [
    "import numpy as np\n",
    "import pandas as pd\n",
    "import sklearn.datasets, sklearn.linear_model, sklearn.neighbors, sklearn.tree\n",
    "import sklearn.discriminant_analysis\n",
    "\n",
    "import sys, os, time\n",
    "import io\n",
    "import subprocess\n",
    "\n",
    "from multiprocessing import Pool\n",
    "from IPython import display"
   ]
  },
  {
   "cell_type": "code",
   "execution_count": 2,
   "metadata": {},
   "outputs": [],
   "source": [
    "THRESHOLD = 30 # Threshold under which a measurement is considered as noise\n",
    "\n",
    "def blob_detection(matrix, x, y, found):\n",
    "    if x > 0 and x < len(matrix[0]) and y > 0 and y < len(matrix) and matrix[y][x] > THRESHOLD and ((x,y) not in found):\n",
    "        found.append((x, y))\n",
    "        blob_detection(matrix, x + 1, y, found) # right\n",
    "        blob_detection(matrix, x - 1, y, found) # left\n",
    "        blob_detection(matrix, x, y + 1, found) # top\n",
    "        blob_detection(matrix, x, y - 1, found) # down\n",
    "        \n",
    "# Returns Blob Coordinates, connected tiles > 30\n",
    "def get_blobs(matrix):\n",
    "    blobs = []\n",
    "    founds = []\n",
    "    for y in range(0, len(matrix)):\n",
    "        for x in range(0, len(matrix[0])):\n",
    "\n",
    "            # blob detection\n",
    "            found = []\n",
    "            blob_detection(matrix, x, y, found)\n",
    "\n",
    "            if (len(found) > 0):\n",
    "                sorted_by_x = sorted(found, key=lambda x: x[0])\n",
    "                sorted_by_y = sorted(found, key=lambda x: x[1])\n",
    "                x_min = sorted_by_x[0][0]\n",
    "                y_min = sorted_by_y[0][1]\n",
    "                x_max = sorted_by_x[len(sorted_by_x) - 1][0]\n",
    "                y_max = sorted_by_y[len(sorted_by_y) - 1][1]\n",
    "                \n",
    "                if (x_min - 1, x_max + 1, y_min - 1, y_max + 1) not in blobs and ((x_max - x_min) * (y_max - y_min)) > 1:\n",
    "                    blobs.append((x_min - 1, x_max + 1, y_min - 1, y_max + 1))\n",
    "                    founds.append(len(found))\n",
    "    \n",
    "    return blobs, founds\n",
    "\n",
    "\n",
    "def get_blob_contents(matrix, blob_coordinates):\n",
    "    matrices = []\n",
    "    for c in blob_coordinates:\n",
    "        matrices.append(matrix[c[2]:c[3], c[0]:c[1]])\n",
    "    return matrices\n",
    "\n",
    "def get_plt_rect(blob_coordinates):\n",
    "    return Rectangle((blob_coordinates[2] - 0.5, blob_coordinates[0]  - 0.5), (blob_coordinates[1] - blob_coordinates[0]) + 1, (blob_coordinates[3] - blob_coordinates[2]) + 1, fill=None, alpha=1, lw=2, color='lime')"
   ]
  },
  {
   "cell_type": "code",
   "execution_count": 3,
   "metadata": {},
   "outputs": [],
   "source": [
    "# Loading the output of the first Notebook.\n",
    "# Since we did not upload the full output to github due to space constraints, this has to be generated first.\n",
    "df = pd.read_pickle(\"data/data_1.pkl\")"
   ]
  },
  {
   "cell_type": "markdown",
   "metadata": {},
   "source": [
    "## Data Augmentation"
   ]
  },
  {
   "cell_type": "code",
   "execution_count": 4,
   "metadata": {},
   "outputs": [],
   "source": [
    "# Mirroring L/R\n",
    "def flip_lr (index):\n",
    "    twodim = df.iloc[index].Matrix.reshape(27, 15)\n",
    "    return np.fliplr(twodim).flatten()\n",
    "p = Pool(15)\n",
    "results_lr = p.map(flip_lr, range(len(df)))\n",
    "p.close()\n",
    "p.join()\n",
    "df_lr = df.copy(deep=True)\n",
    "df_lr.Matrix = results_lr\n",
    "\n",
    "# Mirroring U/D\n",
    "def flip_ud (index):\n",
    "    twodim = df.iloc[index].Matrix.reshape(27, 15)\n",
    "    return np.flipud(twodim).flatten()\n",
    "p = Pool(15)\n",
    "results_ud = p.map(flip_ud, range(len(df)))\n",
    "p.close()\n",
    "p.join()\n",
    "df_ud = df.copy(deep=True)\n",
    "df_ud.Matrix = results_ud\n",
    "\n",
    "# Append to data frame. \n",
    "df_new = df.append(df_lr,ignore_index=True)\n",
    "df_new = df_new.append(df_ud,ignore_index=True)\n",
    "\n",
    "# Mirroring U/D of L/R\n",
    "def flip_ud_of_lr (index):\n",
    "    twodim = df_lr.iloc[index].Matrix.reshape(27, 15)\n",
    "    return np.flipud(twodim).flatten()\n",
    "p = Pool(15)\n",
    "results_udoflr = p.map(flip_ud_of_lr, range(len(df_lr)))\n",
    "p.close()\n",
    "p.join()\n",
    "df_udoflr = df.copy(deep=True)\n",
    "df_udoflr.Matrix = results_udoflr\n",
    "\n",
    "df = df_new.append(df_udoflr, ignore_index=True)"
   ]
  },
  {
   "cell_type": "code",
   "execution_count": 5,
   "metadata": {},
   "outputs": [
    {
     "name": "stdout",
     "output_type": "stream",
     "text": [
      "CPU times: user 2h 6min 13s, sys: 16.1 s, total: 2h 6min 29s\n",
      "Wall time: 2h 6min 29s\n"
     ]
    }
   ],
   "source": [
    "%%time\n",
    "df['Blobcoords'] = df.Matrix.apply(lambda x : get_blobs(x.reshape(27, 15))[0])"
   ]
  },
  {
   "cell_type": "code",
   "execution_count": 6,
   "metadata": {},
   "outputs": [
    {
     "name": "stdout",
     "output_type": "stream",
     "text": [
      "CPU times: user 420 ms, sys: 8 ms, total: 428 ms\n",
      "Wall time: 427 ms\n"
     ]
    }
   ],
   "source": [
    "%%time \n",
    "df['Blobcount'] = df.Blobcoords.apply(lambda x : len(x))"
   ]
  },
  {
   "cell_type": "code",
   "execution_count": 7,
   "metadata": {},
   "outputs": [
    {
     "name": "stdout",
     "output_type": "stream",
     "text": [
      "CPU times: user 46.4 s, sys: 836 ms, total: 47.2 s\n",
      "Wall time: 47.2 s\n"
     ]
    }
   ],
   "source": [
    "%%time\n",
    "df['Blobs'] = df.apply(lambda x : get_blob_contents(x.Matrix.reshape(27, 15), x.Blobcoords), axis=1)"
   ]
  },
  {
   "cell_type": "code",
   "execution_count": 8,
   "metadata": {},
   "outputs": [
    {
     "name": "stdout",
     "output_type": "stream",
     "text": [
      "CPU times: user 388 ms, sys: 36 ms, total: 424 ms\n",
      "Wall time: 423 ms\n"
     ]
    }
   ],
   "source": [
    "%%time\n",
    "OH_TASKS = [\"TAP\", \"DRAG\", \"SCROLL\"]\n",
    "TH_TASKS = [\"PINCH\", \"ROTATE\"]\n",
    "PALM_TASK = [\"PALM\"]\n",
    "\n",
    "valid1Blob = (df.Blobcount == 1) & (df.Task.isin(OH_TASKS + PALM_TASK))\n",
    "valid2Blob = (df.Blobcount == 2) & (df.Task.isin(TH_TASKS))\n",
    "\n",
    "df = df[valid1Blob | valid2Blob]"
   ]
  },
  {
   "cell_type": "code",
   "execution_count": 9,
   "metadata": {},
   "outputs": [],
   "source": [
    "df = df.rename(columns={\"Condition\": \"Hands\"})\n",
    "df.Hands.replace(to_replace={1: '2'}, inplace=True)\n",
    "df.Hands.replace(to_replace={0: '1'}, inplace=True)\n",
    "df.Hands = df.Hands.astype(int)"
   ]
  },
  {
   "cell_type": "code",
   "execution_count": 10,
   "metadata": {},
   "outputs": [
    {
     "name": "stdout",
     "output_type": "stream",
     "text": [
      "CPU times: user 28.6 s, sys: 1.49 s, total: 30.1 s\n",
      "Wall time: 30.1 s\n"
     ]
    }
   ],
   "source": [
    "%%time\n",
    "def getBlobImage(blobs):\n",
    "    blobList = []\n",
    "    for blob in blobs:\n",
    "        blobList.append(np.pad(blob, ((0, 27 - blob.shape[0]),(0, 15 - blob.shape[1])), mode='constant', constant_values=0))\n",
    "        \n",
    "    return blobList\n",
    "\n",
    "df['BlobImages'] = df.Blobs.apply(lambda x : getBlobImage(x))"
   ]
  },
  {
   "cell_type": "code",
   "execution_count": 11,
   "metadata": {},
   "outputs": [],
   "source": [
    "df = df.drop([\"Timestamp\"], axis=1)\n",
    "df = df.drop([\"Blobs\"], axis=1)\n",
    "df = df.drop([\"Blobcoords\"], axis=1)\n",
    "df = df.drop([\"Matrix\"], axis=1)"
   ]
  },
  {
   "cell_type": "code",
   "execution_count": 12,
   "metadata": {},
   "outputs": [],
   "source": [
    "df.Task = df.Task.astype('category')"
   ]
  },
  {
   "cell_type": "code",
   "execution_count": 15,
   "metadata": {},
   "outputs": [
    {
     "name": "stdout",
     "output_type": "stream",
     "text": [
      "Reading and Writing P1\n",
      "Reading and Writing P2\n",
      "Reading and Writing P3\n",
      "Reading and Writing P4\n",
      "Reading and Writing P5\n",
      "Reading and Writing P6\n",
      "Reading and Writing P7\n",
      "Reading and Writing P8\n",
      "Reading and Writing P9\n",
      "Reading and Writing P10\n",
      "Reading and Writing P11\n",
      "Reading and Writing P12\n",
      "Reading and Writing P13\n",
      "Reading and Writing P14\n",
      "Reading and Writing P15\n",
      "Reading and Writing P16\n",
      "Reading and Writing P17\n",
      "Reading and Writing P18\n",
      "Reading and Writing P19\n",
      "Reading and Writing P20\n",
      "Reading and Writing P21\n",
      "Reading and Writing P22\n",
      "CPU times: user 3min 7s, sys: 1.42 s, total: 3min 8s\n",
      "Wall time: 3min 8s\n"
     ]
    }
   ],
   "source": [
    "%%time\n",
    "for i in range(1, len(df.Participant.unique())+1):\n",
    "    print(\"Reading and Writing P\" + str(i))\n",
    "    dfP = df[df.Participant == i].copy(deep=True)\n",
    "    dfP = dfP.reset_index(drop=True)\n",
    "    dfP.to_pickle(\"../Dataset/blobimages_P\" + str(i) + \".pkl\", compression=\"gzip\")"
   ]
  },
  {
   "cell_type": "code",
   "execution_count": null,
   "metadata": {},
   "outputs": [],
   "source": []
  }
 ],
 "metadata": {
  "kernelspec": {
   "display_name": "Python 3",
   "language": "python",
   "name": "python3"
  },
  "language_info": {
   "codemirror_mode": {
    "name": "ipython",
    "version": 3
   },
   "file_extension": ".py",
   "mimetype": "text/x-python",
   "name": "python",
   "nbconvert_exporter": "python",
   "pygments_lexer": "ipython3",
   "version": "3.6.3"
  }
 },
 "nbformat": 4,
 "nbformat_minor": 2
}
